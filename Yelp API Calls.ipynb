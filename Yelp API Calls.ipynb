{
 "cells": [
  {
   "cell_type": "code",
   "execution_count": 1,
   "id": "c36b891d",
   "metadata": {},
   "outputs": [],
   "source": [
    "# Standard Imports\n",
    "import numpy as np\n",
    "import pandas as pd\n",
    "import matplotlib.pyplot as plt\n",
    "import seaborn as sns\n",
    "import os, json, math, time\n",
    "from yelpapi import YelpAPI\n",
    "from tqdm.notebook import tqdm_notebook\n",
    "\n"
   ]
  },
  {
   "cell_type": "code",
   "execution_count": 4,
   "id": "f0edba3b",
   "metadata": {},
   "outputs": [],
   "source": [
    "# Load API Credentials\n",
    "with open('/Users/dvisi/.secret/yelp_api.json') as f:   #use your path here!\n",
    "    login = json.load(f)\n",
    "# Instantiate YelpAPI Variable\n",
    "yelp_api = YelpAPI(login['api-key'], timeout_s=5.0)\n",
    "\n"
   ]
  },
  {
   "cell_type": "code",
   "execution_count": 5,
   "id": "5664cc30",
   "metadata": {},
   "outputs": [],
   "source": [
    "# setting the API call parameters\n",
    "\n",
    "LOCATION = 'Tempe, AZ'\n",
    "TERM = 'Ramen'"
   ]
  },
  {
   "cell_type": "code",
   "execution_count": 6,
   "id": "3719b676",
   "metadata": {},
   "outputs": [
    {
     "data": {
      "text/plain": [
       "'Data/results_in_progress_tempe_ramen.json'"
      ]
     },
     "execution_count": 6,
     "metadata": {},
     "output_type": "execute_result"
    }
   ],
   "source": [
    "# Specifying JSON_FILE filename (can include a folder)\n",
    "# include the search terms in the filename\n",
    "JSON_FILE = \"Data/results_in_progress_tempe_ramen.json\"\n",
    "JSON_FILE\n",
    "\n"
   ]
  },
  {
   "cell_type": "code",
   "execution_count": 7,
   "id": "e3a37147",
   "metadata": {},
   "outputs": [
    {
     "name": "stdout",
     "output_type": "stream",
     "text": [
      "[i] Data/results_in_progress_tempe_ramen.json not found. Saving empty list to file.\n"
     ]
    }
   ],
   "source": [
    "## Check if JSON_FILE exists\n",
    "file_exists = os.path.isfile(JSON_FILE)\n",
    "## If it does not exist: \n",
    "if file_exists == False:\n",
    "    \n",
    "    ## CREATE ANY NEEDED FOLDERS\n",
    "    # Get the Folder Name only\n",
    "    folder = os.path.dirname(JSON_FILE)\n",
    "    ## If JSON_FILE included a folder:\n",
    "    if len(folder)>0:\n",
    "        # create the folder\n",
    "        os.makedirs(folder,exist_ok=True)\n",
    "        \n",
    "        \n",
    "    ## INFORM USER AND SAVE EMPTY LIST\n",
    "    print(f\"[i] {JSON_FILE} not found. Saving empty list to file.\")\n",
    "    \n",
    "    \n",
    "    ## save the first page of results\n",
    "    with open(JSON_FILE,'w') as f:\n",
    "        json.dump([],f)  \n",
    "## If it exists, inform user\n",
    "else:\n",
    "    print(f\"[i] {JSON_FILE} already exists.\")\n"
   ]
  },
  {
   "cell_type": "code",
   "execution_count": 8,
   "id": "1b14b0c9",
   "metadata": {},
   "outputs": [
    {
     "name": "stdout",
     "output_type": "stream",
     "text": [
      "- 0 previous results found.\n"
     ]
    }
   ],
   "source": [
    "## Load previous results and use len of results for offset\n",
    "with open(JSON_FILE,'r') as f:\n",
    "    previous_results = json.load(f)\n",
    "    \n",
    "## set offset based on previous results\n",
    "n_results = len(previous_results)\n",
    "print(f'- {n_results} previous results found.')\n",
    "\n"
   ]
  },
  {
   "cell_type": "code",
   "execution_count": 9,
   "id": "63ad341e",
   "metadata": {},
   "outputs": [
    {
     "data": {
      "text/plain": [
       "dict_keys(['businesses', 'total', 'region'])"
      ]
     },
     "execution_count": 9,
     "metadata": {},
     "output_type": "execute_result"
    }
   ],
   "source": [
    "# use our yelp_api variable's search_query method to perform our API call\n",
    "results = yelp_api.search_query(location=LOCATION,\n",
    "                                term=TERM,\n",
    "                               offset=n_results)\n",
    "results.keys()\n",
    "\n"
   ]
  },
  {
   "cell_type": "code",
   "execution_count": 10,
   "id": "6e1c6a8a",
   "metadata": {},
   "outputs": [
    {
     "data": {
      "text/plain": [
       "249"
      ]
     },
     "execution_count": 10,
     "metadata": {},
     "output_type": "execute_result"
    }
   ],
   "source": [
    "## How many results total?\n",
    "total_results = results['total']\n",
    "total_results\n",
    "\n"
   ]
  },
  {
   "cell_type": "code",
   "execution_count": 11,
   "id": "02b40f87",
   "metadata": {},
   "outputs": [
    {
     "data": {
      "text/plain": [
       "20"
      ]
     },
     "execution_count": 11,
     "metadata": {},
     "output_type": "execute_result"
    }
   ],
   "source": [
    "## How many did we get the details for?\n",
    "results_per_page = len(results['businesses'])\n",
    "results_per_page\n",
    "\n"
   ]
  },
  {
   "cell_type": "code",
   "execution_count": 12,
   "id": "53540389",
   "metadata": {},
   "outputs": [
    {
     "data": {
      "text/plain": [
       "13"
      ]
     },
     "execution_count": 12,
     "metadata": {},
     "output_type": "execute_result"
    }
   ],
   "source": [
    "# Import additional packages for controlling our loop\n",
    "import time, math\n",
    "# Use math.ceil to round up for the total number of pages of results.\n",
    "n_pages = math.ceil((results['total']-n_results)/ results_per_page)\n",
    "n_pages\n",
    "\n"
   ]
  },
  {
   "cell_type": "code",
   "execution_count": 13,
   "id": "23548eed",
   "metadata": {},
   "outputs": [],
   "source": [
    "# join new results with old list with extend and save to file\n",
    "previous_results.extend(results['businesses'])  \n",
    "with open(JSON_FILE,'w') as f:\n",
    "     json.dump(previous_results,f)\n"
   ]
  },
  {
   "cell_type": "code",
   "execution_count": 14,
   "id": "1b58b6d5",
   "metadata": {},
   "outputs": [
    {
     "data": {
      "application/vnd.jupyter.widget-view+json": {
       "model_id": "a96087fcd5034f0182c5f41741adee9c",
       "version_major": 2,
       "version_minor": 0
      },
      "text/plain": [
       "  0%|          | 0/13 [00:00<?, ?it/s]"
      ]
     },
     "metadata": {},
     "output_type": "display_data"
    }
   ],
   "source": [
    "for i in tqdm_notebook( range(1,n_pages+1)):\n",
    "    \n",
    "    ## Read in results in progress file and check the length\n",
    "    with open(JSON_FILE, 'r') as f:\n",
    "        previous_results = json.load(f)\n",
    "    ## save number of results for to use as offset\n",
    "    n_results = len(previous_results)\n",
    "    ## use n_results as the OFFSET \n",
    "    results = yelp_api.search_query(location=LOCATION,\n",
    "                                    term=TERM, \n",
    "                                    offset=n_results)\n",
    "    \n",
    "    ## append new results and save to file\n",
    "    previous_results.extend(results['businesses'])\n",
    "    \n",
    "    with open(JSON_FILE,'w') as f:\n",
    "        json.dump(previous_results,f)\n",
    "    \n",
    "    # add a 200ms pause\n",
    "    time.sleep(.2)\n",
    "\n",
    "\n"
   ]
  },
  {
   "cell_type": "code",
   "execution_count": 15,
   "id": "9f53bc3d",
   "metadata": {},
   "outputs": [
    {
     "data": {
      "text/plain": [
       "False"
      ]
     },
     "execution_count": 15,
     "metadata": {},
     "output_type": "execute_result"
    }
   ],
   "source": [
    "## delete file and confirm it no longer exits.\n",
    "os.remove(JSON_FILE)\n",
    "os.path.isfile(JSON_FILE)\n",
    "\n"
   ]
  },
  {
   "cell_type": "code",
   "execution_count": 16,
   "id": "ddbd7e4d",
   "metadata": {},
   "outputs": [],
   "source": [
    "def create_json_file(JSON_FILE,  delete_if_exists=False):\n",
    "    \n",
    "    ## Check if JSON_FILE exists\n",
    "    file_exists = os.path.isfile(JSON_FILE)\n",
    "    \n",
    "    ## If it DOES exist:\n",
    "    if file_exists == True:\n",
    "        \n",
    "        ## Check if user wants to delete if exists\n",
    "        if delete_if_exists==True:\n",
    "            \n",
    "            print(f\"[!] {JSON_FILE} already exists. Deleting previous file...\")\n",
    "            ## delete file and confirm it no longer exits.\n",
    "            os.remove(JSON_FILE)\n",
    "        else:\n",
    "            print(f\"[i] {JSON_FILE} already exists.\")            \n",
    "            \n",
    "            \n",
    "    ## If it does NOT exist:\n",
    "    else:\n",
    "        \n",
    "        ## INFORM USER AND SAVE EMPTY LIST\n",
    "        print(f\"[i] {JSON_FILE} not found. Saving empty list to new file.\")\n",
    "        \n",
    "        ## CREATE ANY NEEDED FOLDERS\n",
    "        # Get the Folder Name only\n",
    "        folder = os.path.dirname(JSON_FILE)\n",
    "        \n",
    "        ## If JSON_FILE included a folder:\n",
    "        if len(folder)>0:\n",
    "            # create the folder\n",
    "            os.makedirs(folder,exist_ok=True)\n",
    "        ## Save empty list to start the json file\n",
    "        with open(JSON_FILE,'w') as f:\n",
    "            json.dump([],f)  \n",
    "\n"
   ]
  },
  {
   "cell_type": "code",
   "execution_count": 17,
   "id": "f129d52c",
   "metadata": {},
   "outputs": [
    {
     "name": "stdout",
     "output_type": "stream",
     "text": [
      "[i] Data/results_in_progress_tempe_ramen.json not found. Saving empty list to new file.\n",
      "- 0 previous results found.\n"
     ]
    },
    {
     "data": {
      "text/plain": [
       "13"
      ]
     },
     "execution_count": 17,
     "metadata": {},
     "output_type": "execute_result"
    }
   ],
   "source": [
    "## Create a new empty json file (exist the previous if it exists)\n",
    "create_json_file(JSON_FILE, delete_if_exists=True)\n",
    "## Load previous results and use len of results for offset\n",
    "with open(JSON_FILE,'r') as f:\n",
    "    previous_results = json.load(f)\n",
    "    \n",
    "## set offset based on previous results\n",
    "n_results = len(previous_results)\n",
    "print(f'- {n_results} previous results found.')\n",
    "# use our yelp_api variable's search_query method to perform our API call\n",
    "results = yelp_api.search_query(location=LOCATION,\n",
    "                                term=TERM,\n",
    "                               offset=n_results)\n",
    "## How many results total?\n",
    "total_results = results['total']\n",
    "## How many did we get the details for?\n",
    "results_per_page = len(results['businesses'])\n",
    "# Use math.ceil to round up for the total number of pages of results.\n",
    "n_pages = math.ceil((results['total']-n_results)/ results_per_page)\n",
    "n_pages\n",
    "\n"
   ]
  },
  {
   "cell_type": "code",
   "execution_count": 18,
   "id": "98cbea1b",
   "metadata": {},
   "outputs": [
    {
     "data": {
      "application/vnd.jupyter.widget-view+json": {
       "model_id": "b2108d5a24f24a90bf07cc6ff54d799b",
       "version_major": 2,
       "version_minor": 0
      },
      "text/plain": [
       "  0%|          | 0/13 [00:00<?, ?it/s]"
      ]
     },
     "metadata": {},
     "output_type": "display_data"
    }
   ],
   "source": [
    "for i in tqdm_notebook( range(1,n_pages+1)):\n",
    "    \n",
    "    ## Read in results in progress file and check the length\n",
    "    with open(JSON_FILE, 'r') as f:\n",
    "        previous_results = json.load(f)\n",
    "    ## save number of results for to use as offset\n",
    "    n_results = len(previous_results)\n",
    "    \n",
    "    if (n_results + results_per_page) > 1000:\n",
    "        print('Exceeded 1000 api calls. Stopping loop.')\n",
    "        break\n",
    "    \n",
    "    ## use n_results as the OFFSET \n",
    "    results = yelp_api.search_query(location=LOCATION,\n",
    "                                    term=TERM, \n",
    "                                    offset=n_results)\n",
    "    \n",
    "    \n",
    "    \n",
    "    ## append new results and save to file\n",
    "    previous_results.extend(results['businesses'])\n",
    "    \n",
    "    # display(previous_results)\n",
    "    with open(JSON_FILE,'w') as f:\n",
    "        json.dump(previous_results,f)\n",
    "    \n",
    "    time.sleep(.2)\n",
    "\n"
   ]
  },
  {
   "cell_type": "code",
   "execution_count": 19,
   "id": "98b57039",
   "metadata": {},
   "outputs": [
    {
     "data": {
      "text/html": [
       "<div>\n",
       "<style scoped>\n",
       "    .dataframe tbody tr th:only-of-type {\n",
       "        vertical-align: middle;\n",
       "    }\n",
       "\n",
       "    .dataframe tbody tr th {\n",
       "        vertical-align: top;\n",
       "    }\n",
       "\n",
       "    .dataframe thead th {\n",
       "        text-align: right;\n",
       "    }\n",
       "</style>\n",
       "<table border=\"1\" class=\"dataframe\">\n",
       "  <thead>\n",
       "    <tr style=\"text-align: right;\">\n",
       "      <th></th>\n",
       "      <th>id</th>\n",
       "      <th>alias</th>\n",
       "      <th>name</th>\n",
       "      <th>image_url</th>\n",
       "      <th>is_closed</th>\n",
       "      <th>url</th>\n",
       "      <th>review_count</th>\n",
       "      <th>categories</th>\n",
       "      <th>rating</th>\n",
       "      <th>coordinates</th>\n",
       "      <th>transactions</th>\n",
       "      <th>price</th>\n",
       "      <th>location</th>\n",
       "      <th>phone</th>\n",
       "      <th>display_phone</th>\n",
       "      <th>distance</th>\n",
       "    </tr>\n",
       "  </thead>\n",
       "  <tbody>\n",
       "    <tr>\n",
       "      <th>0</th>\n",
       "      <td>wa8QgXQu1ZxwPgdRl9lYlg</td>\n",
       "      <td>tampopo-ramen-tempe</td>\n",
       "      <td>Tampopo Ramen</td>\n",
       "      <td>https://s3-media2.fl.yelpcdn.com/bphoto/fzo8dP...</td>\n",
       "      <td>False</td>\n",
       "      <td>https://www.yelp.com/biz/tampopo-ramen-tempe?a...</td>\n",
       "      <td>855</td>\n",
       "      <td>[{'alias': 'ramen', 'title': 'Ramen'}, {'alias...</td>\n",
       "      <td>4.0</td>\n",
       "      <td>{'latitude': 33.3938104, 'longitude': -111.908...</td>\n",
       "      <td>[delivery]</td>\n",
       "      <td>$$</td>\n",
       "      <td>{'address1': '3223 S McClintock Dr', 'address2...</td>\n",
       "      <td>+14804912177</td>\n",
       "      <td>(480) 491-2177</td>\n",
       "      <td>2372.417450</td>\n",
       "    </tr>\n",
       "    <tr>\n",
       "      <th>1</th>\n",
       "      <td>WAWWO9PCDTDiXwkKdkw5yA</td>\n",
       "      <td>ramen-dozo-tempe</td>\n",
       "      <td>Ramen Dozo</td>\n",
       "      <td>https://s3-media2.fl.yelpcdn.com/bphoto/wZxMVg...</td>\n",
       "      <td>False</td>\n",
       "      <td>https://www.yelp.com/biz/ramen-dozo-tempe?adju...</td>\n",
       "      <td>281</td>\n",
       "      <td>[{'alias': 'ramen', 'title': 'Ramen'}, {'alias...</td>\n",
       "      <td>4.5</td>\n",
       "      <td>{'latitude': 33.3916792, 'longitude': -111.908...</td>\n",
       "      <td>[delivery]</td>\n",
       "      <td>$$</td>\n",
       "      <td>{'address1': '3415 S McClintock Dr', 'address2...</td>\n",
       "      <td>+14806868086</td>\n",
       "      <td>(480) 686-8086</td>\n",
       "      <td>2357.803728</td>\n",
       "    </tr>\n",
       "    <tr>\n",
       "      <th>2</th>\n",
       "      <td>5lZpyuWjC7L9uJfLfqIQ_w</td>\n",
       "      <td>hachi-ramen-tempe-2</td>\n",
       "      <td>Hachi Ramen</td>\n",
       "      <td>https://s3-media1.fl.yelpcdn.com/bphoto/18BcFp...</td>\n",
       "      <td>False</td>\n",
       "      <td>https://www.yelp.com/biz/hachi-ramen-tempe-2?a...</td>\n",
       "      <td>521</td>\n",
       "      <td>[{'alias': 'ramen', 'title': 'Ramen'}]</td>\n",
       "      <td>4.0</td>\n",
       "      <td>{'latitude': 33.33294, 'longitude': -111.947758}</td>\n",
       "      <td>[delivery, pickup]</td>\n",
       "      <td>$$</td>\n",
       "      <td>{'address1': '655 W Warner Rd', 'address2': 'S...</td>\n",
       "      <td>+14807812603</td>\n",
       "      <td>(480) 781-2603</td>\n",
       "      <td>6370.563911</td>\n",
       "    </tr>\n",
       "    <tr>\n",
       "      <th>3</th>\n",
       "      <td>aveZX9jpacMknrg50MuWeQ</td>\n",
       "      <td>azusa-ramen-tempe</td>\n",
       "      <td>Azusa Ramen</td>\n",
       "      <td>https://s3-media1.fl.yelpcdn.com/bphoto/KqlfTc...</td>\n",
       "      <td>False</td>\n",
       "      <td>https://www.yelp.com/biz/azusa-ramen-tempe?adj...</td>\n",
       "      <td>175</td>\n",
       "      <td>[{'alias': 'ramen', 'title': 'Ramen'}]</td>\n",
       "      <td>4.0</td>\n",
       "      <td>{'latitude': 33.3948781, 'longitude': -111.940...</td>\n",
       "      <td>[delivery, pickup]</td>\n",
       "      <td>$$</td>\n",
       "      <td>{'address1': '3128 South Mill Ave', 'address2'...</td>\n",
       "      <td>+14805905641</td>\n",
       "      <td>(480) 590-5641</td>\n",
       "      <td>940.131105</td>\n",
       "    </tr>\n",
       "    <tr>\n",
       "      <th>4</th>\n",
       "      <td>42eixGgo0CM_fXfD17NDGQ</td>\n",
       "      <td>ramen-time-tempe</td>\n",
       "      <td>Ramen Time</td>\n",
       "      <td>https://s3-media2.fl.yelpcdn.com/bphoto/xUARHj...</td>\n",
       "      <td>False</td>\n",
       "      <td>https://www.yelp.com/biz/ramen-time-tempe?adju...</td>\n",
       "      <td>214</td>\n",
       "      <td>[{'alias': 'ramen', 'title': 'Ramen'}, {'alias...</td>\n",
       "      <td>4.5</td>\n",
       "      <td>{'latitude': 33.4503486, 'longitude': -111.926...</td>\n",
       "      <td>[delivery, pickup]</td>\n",
       "      <td>$</td>\n",
       "      <td>{'address1': '1857 N Scottsdale Rd', 'address2...</td>\n",
       "      <td>+14809944888</td>\n",
       "      <td>(480) 994-4888</td>\n",
       "      <td>6924.620928</td>\n",
       "    </tr>\n",
       "  </tbody>\n",
       "</table>\n",
       "</div>"
      ],
      "text/plain": [
       "                       id                alias           name  \\\n",
       "0  wa8QgXQu1ZxwPgdRl9lYlg  tampopo-ramen-tempe  Tampopo Ramen   \n",
       "1  WAWWO9PCDTDiXwkKdkw5yA     ramen-dozo-tempe     Ramen Dozo   \n",
       "2  5lZpyuWjC7L9uJfLfqIQ_w  hachi-ramen-tempe-2    Hachi Ramen   \n",
       "3  aveZX9jpacMknrg50MuWeQ    azusa-ramen-tempe    Azusa Ramen   \n",
       "4  42eixGgo0CM_fXfD17NDGQ     ramen-time-tempe     Ramen Time   \n",
       "\n",
       "                                           image_url  is_closed  \\\n",
       "0  https://s3-media2.fl.yelpcdn.com/bphoto/fzo8dP...      False   \n",
       "1  https://s3-media2.fl.yelpcdn.com/bphoto/wZxMVg...      False   \n",
       "2  https://s3-media1.fl.yelpcdn.com/bphoto/18BcFp...      False   \n",
       "3  https://s3-media1.fl.yelpcdn.com/bphoto/KqlfTc...      False   \n",
       "4  https://s3-media2.fl.yelpcdn.com/bphoto/xUARHj...      False   \n",
       "\n",
       "                                                 url  review_count  \\\n",
       "0  https://www.yelp.com/biz/tampopo-ramen-tempe?a...           855   \n",
       "1  https://www.yelp.com/biz/ramen-dozo-tempe?adju...           281   \n",
       "2  https://www.yelp.com/biz/hachi-ramen-tempe-2?a...           521   \n",
       "3  https://www.yelp.com/biz/azusa-ramen-tempe?adj...           175   \n",
       "4  https://www.yelp.com/biz/ramen-time-tempe?adju...           214   \n",
       "\n",
       "                                          categories  rating  \\\n",
       "0  [{'alias': 'ramen', 'title': 'Ramen'}, {'alias...     4.0   \n",
       "1  [{'alias': 'ramen', 'title': 'Ramen'}, {'alias...     4.5   \n",
       "2             [{'alias': 'ramen', 'title': 'Ramen'}]     4.0   \n",
       "3             [{'alias': 'ramen', 'title': 'Ramen'}]     4.0   \n",
       "4  [{'alias': 'ramen', 'title': 'Ramen'}, {'alias...     4.5   \n",
       "\n",
       "                                         coordinates        transactions  \\\n",
       "0  {'latitude': 33.3938104, 'longitude': -111.908...          [delivery]   \n",
       "1  {'latitude': 33.3916792, 'longitude': -111.908...          [delivery]   \n",
       "2   {'latitude': 33.33294, 'longitude': -111.947758}  [delivery, pickup]   \n",
       "3  {'latitude': 33.3948781, 'longitude': -111.940...  [delivery, pickup]   \n",
       "4  {'latitude': 33.4503486, 'longitude': -111.926...  [delivery, pickup]   \n",
       "\n",
       "  price                                           location         phone  \\\n",
       "0    $$  {'address1': '3223 S McClintock Dr', 'address2...  +14804912177   \n",
       "1    $$  {'address1': '3415 S McClintock Dr', 'address2...  +14806868086   \n",
       "2    $$  {'address1': '655 W Warner Rd', 'address2': 'S...  +14807812603   \n",
       "3    $$  {'address1': '3128 South Mill Ave', 'address2'...  +14805905641   \n",
       "4     $  {'address1': '1857 N Scottsdale Rd', 'address2...  +14809944888   \n",
       "\n",
       "    display_phone     distance  \n",
       "0  (480) 491-2177  2372.417450  \n",
       "1  (480) 686-8086  2357.803728  \n",
       "2  (480) 781-2603  6370.563911  \n",
       "3  (480) 590-5641   940.131105  \n",
       "4  (480) 994-4888  6924.620928  "
      ]
     },
     "metadata": {},
     "output_type": "display_data"
    },
    {
     "data": {
      "text/html": [
       "<div>\n",
       "<style scoped>\n",
       "    .dataframe tbody tr th:only-of-type {\n",
       "        vertical-align: middle;\n",
       "    }\n",
       "\n",
       "    .dataframe tbody tr th {\n",
       "        vertical-align: top;\n",
       "    }\n",
       "\n",
       "    .dataframe thead th {\n",
       "        text-align: right;\n",
       "    }\n",
       "</style>\n",
       "<table border=\"1\" class=\"dataframe\">\n",
       "  <thead>\n",
       "    <tr style=\"text-align: right;\">\n",
       "      <th></th>\n",
       "      <th>id</th>\n",
       "      <th>alias</th>\n",
       "      <th>name</th>\n",
       "      <th>image_url</th>\n",
       "      <th>is_closed</th>\n",
       "      <th>url</th>\n",
       "      <th>review_count</th>\n",
       "      <th>categories</th>\n",
       "      <th>rating</th>\n",
       "      <th>coordinates</th>\n",
       "      <th>transactions</th>\n",
       "      <th>price</th>\n",
       "      <th>location</th>\n",
       "      <th>phone</th>\n",
       "      <th>display_phone</th>\n",
       "      <th>distance</th>\n",
       "    </tr>\n",
       "  </thead>\n",
       "  <tbody>\n",
       "    <tr>\n",
       "      <th>244</th>\n",
       "      <td>hLMXjL3rHblsw0lwIgiIYQ</td>\n",
       "      <td>7-eleven-scottsdale-2</td>\n",
       "      <td>7-Eleven</td>\n",
       "      <td>https://s3-media3.fl.yelpcdn.com/bphoto/NguET-...</td>\n",
       "      <td>False</td>\n",
       "      <td>https://www.yelp.com/biz/7-eleven-scottsdale-2...</td>\n",
       "      <td>1</td>\n",
       "      <td>[{'alias': 'convenience', 'title': 'Convenienc...</td>\n",
       "      <td>2.0</td>\n",
       "      <td>{'latitude': 33.4663571096898, 'longitude': -1...</td>\n",
       "      <td>[pickup, delivery]</td>\n",
       "      <td>$</td>\n",
       "      <td>{'address1': '8402 E Mcdowell Rd', 'address2':...</td>\n",
       "      <td>+14809499534</td>\n",
       "      <td>(480) 949-9534</td>\n",
       "      <td>9148.190537</td>\n",
       "    </tr>\n",
       "    <tr>\n",
       "      <th>245</th>\n",
       "      <td>jOMEYEJPjoGez8o4HliG_g</td>\n",
       "      <td>dominos-pizza-scottsdale-11</td>\n",
       "      <td>Domino's Pizza</td>\n",
       "      <td>https://s3-media3.fl.yelpcdn.com/bphoto/3zX6Nt...</td>\n",
       "      <td>False</td>\n",
       "      <td>https://www.yelp.com/biz/dominos-pizza-scottsd...</td>\n",
       "      <td>86</td>\n",
       "      <td>[{'alias': 'pizza', 'title': 'Pizza'}, {'alias...</td>\n",
       "      <td>2.0</td>\n",
       "      <td>{'latitude': 33.4805337, 'longitude': -111.935...</td>\n",
       "      <td>[]</td>\n",
       "      <td>$</td>\n",
       "      <td>{'address1': '2902 N 68th St', 'address2': Non...</td>\n",
       "      <td>+16029529300</td>\n",
       "      <td>(602) 952-9300</td>\n",
       "      <td>10181.619187</td>\n",
       "    </tr>\n",
       "    <tr>\n",
       "      <th>246</th>\n",
       "      <td>1I8XRD2bf2nfRgjQjgeIOQ</td>\n",
       "      <td>7-eleven-phoenix-30</td>\n",
       "      <td>7-Eleven</td>\n",
       "      <td>https://s3-media3.fl.yelpcdn.com/bphoto/KgW9Te...</td>\n",
       "      <td>False</td>\n",
       "      <td>https://www.yelp.com/biz/7-eleven-phoenix-30?a...</td>\n",
       "      <td>10</td>\n",
       "      <td>[{'alias': 'convenience', 'title': 'Convenienc...</td>\n",
       "      <td>2.5</td>\n",
       "      <td>{'latitude': 33.4660614, 'longitude': -111.978...</td>\n",
       "      <td>[pickup, delivery]</td>\n",
       "      <td>$</td>\n",
       "      <td>{'address1': '4748 East Mcdowell Rd', 'address...</td>\n",
       "      <td>+16022758452</td>\n",
       "      <td>(602) 275-8452</td>\n",
       "      <td>9547.813957</td>\n",
       "    </tr>\n",
       "    <tr>\n",
       "      <th>247</th>\n",
       "      <td>IQGuA-nLqH_WJIzIgOKrbw</td>\n",
       "      <td>don-fito-s-taqueria-gilbert</td>\n",
       "      <td>Don Fito’s Taqueria</td>\n",
       "      <td>https://s3-media2.fl.yelpcdn.com/bphoto/QBNUMK...</td>\n",
       "      <td>False</td>\n",
       "      <td>https://www.yelp.com/biz/don-fito-s-taqueria-g...</td>\n",
       "      <td>6</td>\n",
       "      <td>[{'alias': 'tacos', 'title': 'Tacos'}, {'alias...</td>\n",
       "      <td>3.5</td>\n",
       "      <td>{'latitude': 33.35209437972647, 'longitude': -...</td>\n",
       "      <td>[]</td>\n",
       "      <td>NaN</td>\n",
       "      <td>{'address1': '', 'address2': None, 'address3':...</td>\n",
       "      <td>+14806512976</td>\n",
       "      <td>(480) 651-2976</td>\n",
       "      <td>12063.471773</td>\n",
       "    </tr>\n",
       "    <tr>\n",
       "      <th>248</th>\n",
       "      <td>l2n2Pl4rDW2-wVkJVS2ipg</td>\n",
       "      <td>7-eleven-scottsdale-3</td>\n",
       "      <td>7-Eleven</td>\n",
       "      <td>https://s3-media4.fl.yelpcdn.com/bphoto/un57Vs...</td>\n",
       "      <td>False</td>\n",
       "      <td>https://www.yelp.com/biz/7-eleven-scottsdale-3...</td>\n",
       "      <td>9</td>\n",
       "      <td>[{'alias': 'convenience', 'title': 'Convenienc...</td>\n",
       "      <td>2.0</td>\n",
       "      <td>{'latitude': 33.5243014, 'longitude': -111.899...</td>\n",
       "      <td>[pickup, delivery]</td>\n",
       "      <td>$</td>\n",
       "      <td>{'address1': '8410 East Mcdonald', 'address2':...</td>\n",
       "      <td>+14809487363</td>\n",
       "      <td>(480) 948-7363</td>\n",
       "      <td>15370.805513</td>\n",
       "    </tr>\n",
       "  </tbody>\n",
       "</table>\n",
       "</div>"
      ],
      "text/plain": [
       "                         id                        alias                 name  \\\n",
       "244  hLMXjL3rHblsw0lwIgiIYQ        7-eleven-scottsdale-2             7-Eleven   \n",
       "245  jOMEYEJPjoGez8o4HliG_g  dominos-pizza-scottsdale-11       Domino's Pizza   \n",
       "246  1I8XRD2bf2nfRgjQjgeIOQ          7-eleven-phoenix-30             7-Eleven   \n",
       "247  IQGuA-nLqH_WJIzIgOKrbw  don-fito-s-taqueria-gilbert  Don Fito’s Taqueria   \n",
       "248  l2n2Pl4rDW2-wVkJVS2ipg        7-eleven-scottsdale-3             7-Eleven   \n",
       "\n",
       "                                             image_url  is_closed  \\\n",
       "244  https://s3-media3.fl.yelpcdn.com/bphoto/NguET-...      False   \n",
       "245  https://s3-media3.fl.yelpcdn.com/bphoto/3zX6Nt...      False   \n",
       "246  https://s3-media3.fl.yelpcdn.com/bphoto/KgW9Te...      False   \n",
       "247  https://s3-media2.fl.yelpcdn.com/bphoto/QBNUMK...      False   \n",
       "248  https://s3-media4.fl.yelpcdn.com/bphoto/un57Vs...      False   \n",
       "\n",
       "                                                   url  review_count  \\\n",
       "244  https://www.yelp.com/biz/7-eleven-scottsdale-2...             1   \n",
       "245  https://www.yelp.com/biz/dominos-pizza-scottsd...            86   \n",
       "246  https://www.yelp.com/biz/7-eleven-phoenix-30?a...            10   \n",
       "247  https://www.yelp.com/biz/don-fito-s-taqueria-g...             6   \n",
       "248  https://www.yelp.com/biz/7-eleven-scottsdale-3...             9   \n",
       "\n",
       "                                            categories  rating  \\\n",
       "244  [{'alias': 'convenience', 'title': 'Convenienc...     2.0   \n",
       "245  [{'alias': 'pizza', 'title': 'Pizza'}, {'alias...     2.0   \n",
       "246  [{'alias': 'convenience', 'title': 'Convenienc...     2.5   \n",
       "247  [{'alias': 'tacos', 'title': 'Tacos'}, {'alias...     3.5   \n",
       "248  [{'alias': 'convenience', 'title': 'Convenienc...     2.0   \n",
       "\n",
       "                                           coordinates        transactions  \\\n",
       "244  {'latitude': 33.4663571096898, 'longitude': -1...  [pickup, delivery]   \n",
       "245  {'latitude': 33.4805337, 'longitude': -111.935...                  []   \n",
       "246  {'latitude': 33.4660614, 'longitude': -111.978...  [pickup, delivery]   \n",
       "247  {'latitude': 33.35209437972647, 'longitude': -...                  []   \n",
       "248  {'latitude': 33.5243014, 'longitude': -111.899...  [pickup, delivery]   \n",
       "\n",
       "    price                                           location         phone  \\\n",
       "244     $  {'address1': '8402 E Mcdowell Rd', 'address2':...  +14809499534   \n",
       "245     $  {'address1': '2902 N 68th St', 'address2': Non...  +16029529300   \n",
       "246     $  {'address1': '4748 East Mcdowell Rd', 'address...  +16022758452   \n",
       "247   NaN  {'address1': '', 'address2': None, 'address3':...  +14806512976   \n",
       "248     $  {'address1': '8410 East Mcdonald', 'address2':...  +14809487363   \n",
       "\n",
       "      display_phone      distance  \n",
       "244  (480) 949-9534   9148.190537  \n",
       "245  (602) 952-9300  10181.619187  \n",
       "246  (602) 275-8452   9547.813957  \n",
       "247  (480) 651-2976  12063.471773  \n",
       "248  (480) 948-7363  15370.805513  "
      ]
     },
     "metadata": {},
     "output_type": "display_data"
    }
   ],
   "source": [
    "# load final results\n",
    "final_df = pd.read_json(JSON_FILE)\n",
    "display(final_df.head(), final_df.tail())\n"
   ]
  },
  {
   "cell_type": "code",
   "execution_count": 21,
   "id": "d86e90f1",
   "metadata": {},
   "outputs": [
    {
     "data": {
      "text/plain": [
       "1"
      ]
     },
     "execution_count": 21,
     "metadata": {},
     "output_type": "execute_result"
    }
   ],
   "source": [
    "# check for duplicate ID's \n",
    "final_df.duplicated(subset='id').sum()\n"
   ]
  },
  {
   "cell_type": "code",
   "execution_count": 22,
   "id": "546df7ff",
   "metadata": {},
   "outputs": [
    {
     "data": {
      "text/plain": [
       "0"
      ]
     },
     "execution_count": 22,
     "metadata": {},
     "output_type": "execute_result"
    }
   ],
   "source": [
    "## Drop duplicate ids and confirm there are no more duplicates\n",
    "final_df = final_df.drop_duplicates(subset='id')\n",
    "final_df.duplicated(subset='id').sum()\n"
   ]
  },
  {
   "cell_type": "code",
   "execution_count": 23,
   "id": "a861015f",
   "metadata": {},
   "outputs": [],
   "source": [
    "# save the final results to a compressed csv\n",
    "final_df.to_csv('Data/final_results_NY_pizza.csv.gz', compression='gzip',index=False)\n",
    "\n"
   ]
  },
  {
   "cell_type": "code",
   "execution_count": null,
   "id": "91f41e85",
   "metadata": {},
   "outputs": [],
   "source": []
  }
 ],
 "metadata": {
  "kernelspec": {
   "display_name": "Python (dojo-env)",
   "language": "python",
   "name": "dojo-env"
  },
  "language_info": {
   "codemirror_mode": {
    "name": "ipython",
    "version": 3
   },
   "file_extension": ".py",
   "mimetype": "text/x-python",
   "name": "python",
   "nbconvert_exporter": "python",
   "pygments_lexer": "ipython3",
   "version": "3.8.13"
  },
  "toc": {
   "base_numbering": 1,
   "nav_menu": {},
   "number_sections": true,
   "sideBar": true,
   "skip_h1_title": false,
   "title_cell": "Table of Contents",
   "title_sidebar": "Contents",
   "toc_cell": false,
   "toc_position": {},
   "toc_section_display": true,
   "toc_window_display": false
  }
 },
 "nbformat": 4,
 "nbformat_minor": 5
}
